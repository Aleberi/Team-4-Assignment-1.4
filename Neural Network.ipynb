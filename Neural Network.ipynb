{
 "cells": [
  {
   "cell_type": "code",
   "execution_count": 2,
   "id": "7e2cefd3-2317-46ec-882c-f0dc9c414c39",
   "metadata": {},
   "outputs": [],
   "source": [
    "# Importing necessary libraries\n",
    "import pandas as pd\n",
    "import numpy as np\n",
    "from sklearn.cluster import KMeans\n",
    "from sklearn.preprocessing import StandardScaler, OneHotEncoder\n",
    "from sklearn.model_selection import train_test_split, GridSearchCV\n",
    "from sklearn.neural_network import MLPRegressor\n",
    "import matplotlib.pyplot as plt\n",
    "from sklearn.pipeline import Pipeline\n",
    "from sklearn.compose import ColumnTransformer\n",
    "import seaborn as sns\n",
    "import yfinance as yf\n",
    "from statsmodels.tsa.arima.model import ARIMA\n",
    "from sklearn.metrics import mean_absolute_error, mean_squared_error"
   ]
  },
  {
   "cell_type": "code",
   "execution_count": 5,
   "id": "2bb94304-0e4e-4e6d-9c66-64910191ca61",
   "metadata": {},
   "outputs": [],
   "source": [
    "data = pd.read_csv('top_50_stocks_data_formatted.csv')\n",
    "\n",
    "categorical_columns = ['Ticker']\n",
    "numeric_columns = ['Open', 'Close', 'High', 'Low', 'Adjusted Close', 'Volume']"
   ]
  },
  {
   "cell_type": "code",
   "execution_count": 6,
   "id": "a48fc27a-6eb1-476c-a174-4d49aa039746",
   "metadata": {},
   "outputs": [],
   "source": [
    "# Specifying preprocessing pipeline\n",
    "numeric_transformer = Pipeline(steps=[\n",
    "    ('scaler', StandardScaler())\n",
    "])\n",
    "\n",
    "categorical_transformer = Pipeline(steps=[\n",
    "    ('onehot', OneHotEncoder(handle_unknown='ignore'))\n",
    "])\n",
    "\n",
    "preprocessor = ColumnTransformer(\n",
    "    transformers=[\n",
    "        ('num', numeric_transformer, numeric_columns),\n",
    "        ('cat', categorical_transformer, categorical_columns)\n",
    "    ])"
   ]
  },
  {
   "cell_type": "code",
   "execution_count": 7,
   "id": "73a8472c-1a6f-43ba-8ed3-9dc67280fd4a",
   "metadata": {},
   "outputs": [],
   "source": [
    "# Defining model pipeline\n",
    "model2 = Pipeline(steps=[\n",
    "    ('preprocessor', preprocessor),\n",
    "    ('mlp', MLPRegressor(max_iter=500, random_state=42))\n",
    "])"
   ]
  },
  {
   "cell_type": "code",
   "execution_count": 8,
   "id": "1df45cb4-04f2-4cee-82d5-4c8e1327efe2",
   "metadata": {},
   "outputs": [],
   "source": [
    "# Specifing grid for hyperparameter tuning\n",
    "param_grid = {\n",
    "    'mlp__hidden_layer_sizes': [(30,30,30), (50,50,50), (50,100,50)],\n",
    "    'mlp__activation': ['tanh', 'relu'],\n",
    "    'mlp__solver': ['sgd', 'adam'],\n",
    "}"
   ]
  },
  {
   "cell_type": "code",
   "execution_count": 9,
   "id": "7cb57a3b-48c1-4250-9628-20e14a08056c",
   "metadata": {},
   "outputs": [],
   "source": [
    "# Using GridSearchCV to find best hyperparameters\n",
    "grid_search = GridSearchCV(model2, param_grid, cv=5)"
   ]
  },
  {
   "cell_type": "code",
   "execution_count": 10,
   "id": "159ccd01-abfe-4eb8-945b-bd8cff26e42e",
   "metadata": {},
   "outputs": [],
   "source": [
    "# Separating features and target\n",
    "X = data[categorical_columns + numeric_columns]\n",
    "y = data['Close']"
   ]
  },
  {
   "cell_type": "code",
   "execution_count": 11,
   "id": "aa4cc775-dab3-48d0-9c45-bd5c6c29b208",
   "metadata": {},
   "outputs": [],
   "source": [
    "# Splitting data into training and test sets\n",
    "X_train, X_test, y_train, y_test = train_test_split(X, y, test_size=0.2, random_state=42)"
   ]
  },
  {
   "cell_type": "code",
   "execution_count": null,
   "id": "998dc7d1-5886-46e9-bbb1-fd7b1929892d",
   "metadata": {},
   "outputs": [],
   "source": [
    "# Fitting model\n",
    "grid_search.fit(X_train, y_train)"
   ]
  },
  {
   "cell_type": "code",
   "execution_count": null,
   "id": "e41c06df-a549-4fa2-bb5b-07a1faa82895",
   "metadata": {},
   "outputs": [],
   "source": [
    "GridSearchCV(cv=5,\n",
    "             estimator=Pipeline(steps=[('preprocessor',\n",
    "                                        ColumnTransformer(transformers=[('num', Pipeline(steps=[('scaler', StandardScaler())]),\n",
    "                                                                         numerical_columns),\n",
    "                                                                        ('cat', Pipeline(steps=[('onehot', OneHotEncoder(handle_unknown='ignore'))]),\n",
    "                                                                         categorical_columns)])),\n",
    "                                       ('mlp', MLPRegressor(max_iter=500, random_state=42))]),\n",
    "             param_grid={'mlp__activation': ['tanh', 'relu'],\n",
    "                         'mlp__hidden_layer_sizes': [(30, 30, 30), (50, 50, 50), (50, 100, 50)],"
   ]
  },
  {
   "cell_type": "code",
   "execution_count": null,
   "id": "9f94a599-383a-4cc7-aeec-8d11ae3f5729",
   "metadata": {},
   "outputs": [],
   "source": [
    "# Displaying best parameters\n",
    "print(f\"Best parameters: {grid_search.best_params_}\")\n",
    "\n",
    "# Making predictions\n",
    "y_pred = grid_search.predict(X_test)"
   ]
  },
  {
   "cell_type": "code",
   "execution_count": 12,
   "id": "7041303e-9673-46b8-a206-5baddb16fcd1",
   "metadata": {},
   "outputs": [
    {
     "ename": "NameError",
     "evalue": "name 'y_pred' is not defined",
     "output_type": "error",
     "traceback": [
      "\u001b[1;31m---------------------------------------------------------------------------\u001b[0m",
      "\u001b[1;31mNameError\u001b[0m                                 Traceback (most recent call last)",
      "Cell \u001b[1;32mIn[12], line 2\u001b[0m\n\u001b[0;32m      1\u001b[0m \u001b[38;5;66;03m# Calculate MSE\u001b[39;00m\n\u001b[1;32m----> 2\u001b[0m mse \u001b[38;5;241m=\u001b[39m mean_squared_error(y_test, y_pred)\n\u001b[0;32m      3\u001b[0m \u001b[38;5;28mprint\u001b[39m(\u001b[38;5;124mf\u001b[39m\u001b[38;5;124m\"\u001b[39m\u001b[38;5;124mMean Squared Error: \u001b[39m\u001b[38;5;132;01m{\u001b[39;00mmse\u001b[38;5;132;01m}\u001b[39;00m\u001b[38;5;124m\"\u001b[39m)\n",
      "\u001b[1;31mNameError\u001b[0m: name 'y_pred' is not defined"
     ]
    }
   ],
   "source": [
    "# Calculate MSE\n",
    "mse = mean_squared_error(y_test, y_pred)\n",
    "print(f\"Mean Squared Error: {mse}\")"
   ]
  },
  {
   "cell_type": "code",
   "execution_count": null,
   "id": "4d3f6ebe-a36d-428d-bdbf-7ecfb51517dc",
   "metadata": {},
   "outputs": [],
   "source": [
    "# Plot actual vs predicted\n",
    "plt.scatter(y_test, y_pred)\n",
    "plt.plot(y_test, y_test, color='r')\n",
    "plt.xlabel('Actual Prices')\n",
    "plt.ylabel('Predicted Prices')\n",
    "plt.title('Actual vs Predicted House Prices')\n",
    "plt.show()"
   ]
  }
 ],
 "metadata": {
  "kernelspec": {
   "display_name": "Python 3 (ipykernel)",
   "language": "python",
   "name": "python3"
  },
  "language_info": {
   "codemirror_mode": {
    "name": "ipython",
    "version": 3
   },
   "file_extension": ".py",
   "mimetype": "text/x-python",
   "name": "python",
   "nbconvert_exporter": "python",
   "pygments_lexer": "ipython3",
   "version": "3.11.7"
  }
 },
 "nbformat": 4,
 "nbformat_minor": 5
}
